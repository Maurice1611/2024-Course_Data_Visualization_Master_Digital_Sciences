{
 "cells": [
  {
   "cell_type": "code",
   "execution_count": 1,
   "metadata": {},
   "outputs": [],
   "source": [
    "from itertools import combinations\n",
    "\n",
    "import numpy as np\n",
    "import pandas as pd\n",
    "\n",
    "from bokeh.models import ColumnDataSource, FixedTicker\n",
    "from bokeh.plotting import figure, show\n",
    "from bokeh.sampledata.forensic_glass import data as df\n",
    "from bokeh.transform import linear_cmap\n",
    "\n",
    "elements = (\"Mg\", \"Ca\", \"Fe\", \"K\", \"Na\", \"Al\", \"Ba\")\n",
    "pairs = list(combinations(elements, 2))\n",
    "\n",
    "correlations = []\n",
    "for x, y in pairs:\n",
    "    matrix = np.corrcoef(df[x], df[y])\n",
    "    correlations.append(matrix[0, 1])\n",
    "\n",
    "x, y = list(zip(*pairs))\n",
    "\n",
    "new_df = pd.DataFrame({\n",
    "    \"oxide_1\": x,\n",
    "    \"oxide_2\": y,\n",
    "    \"correlation\": correlations,\n",
    "    \"dot_size\": [(1+ 10 * abs(corr)) * 10 for corr in correlations],\n",
    "})\n",
    "\n",
    "x_range = new_df[\"oxide_1\"].unique()\n",
    "y_range = list(new_df[\"oxide_2\"].unique())\n",
    "\n",
    "source = ColumnDataSource(new_df)\n",
    "\n",
    "p = figure(x_axis_location=\"above\", toolbar_location=None, x_range=x_range, y_range=y_range, background_fill_color=\"#fafafa\")\n",
    "\n",
    "c = p.scatter(x=\"oxide_1\", y=\"oxide_2\", size=\"dot_size\", source=source, fill_color=linear_cmap(\"correlation\", \"RdYlGn9\", -0.5, 0.5), line_color=\"#202020\")\n",
    "\n",
    "color_bar = c.construct_color_bar(\n",
    "    location=(200, 0),\n",
    "    ticker=FixedTicker(ticks=[-0.5, 0.0, 0.5]),\n",
    "    title=\"correlation\",\n",
    "    major_tick_line_color=None,\n",
    "    width=150,\n",
    "    height=20,\n",
    ")\n",
    "\n",
    "p.add_layout(color_bar, \"below\")\n",
    "\n",
    "p.axis.major_tick_line_color = None\n",
    "p.axis.major_tick_out = 0\n",
    "p.axis.axis_line_color = None\n",
    "p.grid.grid_line_color = None\n",
    "p.outline_line_color = None\n",
    "\n",
    "show(p)"
   ]
  }
 ],
 "metadata": {
  "kernelspec": {
   "display_name": ".venv",
   "language": "python",
   "name": "python3"
  },
  "language_info": {
   "codemirror_mode": {
    "name": "ipython",
    "version": 3
   },
   "file_extension": ".py",
   "mimetype": "text/x-python",
   "name": "python",
   "nbconvert_exporter": "python",
   "pygments_lexer": "ipython3",
   "version": "3.10.5"
  }
 },
 "nbformat": 4,
 "nbformat_minor": 2
}
